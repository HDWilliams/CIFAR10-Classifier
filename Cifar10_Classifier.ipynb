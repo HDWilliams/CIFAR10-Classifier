{
  "nbformat": 4,
  "nbformat_minor": 0,
  "metadata": {
    "colab": {
      "name": "Cifar10_Classifier.ipynb",
      "provenance": [],
      "collapsed_sections": [],
      "include_colab_link": true
    },
    "kernelspec": {
      "name": "python3",
      "display_name": "Python 3"
    }
  },
  "cells": [
    {
      "cell_type": "markdown",
      "metadata": {
        "id": "view-in-github",
        "colab_type": "text"
      },
      "source": [
        "<a href=\"https://colab.research.google.com/github/HDWilliams/CIFAR10-Classifier/blob/master/Cifar10_Classifier.ipynb\" target=\"_parent\"><img src=\"https://colab.research.google.com/assets/colab-badge.svg\" alt=\"Open In Colab\"/></a>"
      ]
    },
    {
      "cell_type": "code",
      "metadata": {
        "id": "i7V9U1ThIZ5B",
        "colab_type": "code",
        "colab": {}
      },
      "source": [
        "#import necessary libraries\n",
        "import torch\n",
        "import torchvision\n",
        "import numpy as np\n",
        "import matplotlib.pyplot as plt\n",
        "from torchvision import dataset, transforms\n",
        "\n",
        "#import CIFAR10 dataset\n",
        "\n",
        "#set up transform\n",
        "transform = transforms.Compose([transforms.ToTensor(), \n",
        "                                transforms.Normalize((.5, .5, .5), (.5, .5, .5))])\n",
        "\n",
        "#import dataset/apply transforms\n",
        "train_data = datasets.CIFAR10('data', train=True, download=True, transform=transform)\n",
        "\n",
        "#set up validation set\n",
        "validation_percentage = .2\n",
        "train_len = len(train_data)\n",
        "indicies = list(range(train_len))\n",
        "split = int(np.floor(validation_percentage * train_len))\n",
        "train_index, validation_index = indicies[split:], indicies[:split]\n",
        "\n",
        "train_sample, valid_sample = torch.utils.data.SubsetRandomSampler(train_index), torch.utils.data.SubsetRandomSample(validation_index)\n",
        "\n",
        "\n",
        "test_data = datasets.CIFAR10('data', train=False, download=True, transform=transform)"
      ],
      "execution_count": 0,
      "outputs": []
    }
  ]
}